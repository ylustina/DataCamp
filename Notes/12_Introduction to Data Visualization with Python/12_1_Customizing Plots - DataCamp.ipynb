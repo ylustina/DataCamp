{
 "cells": [
  {
   "cell_type": "code",
   "execution_count": 1,
   "metadata": {
    "collapsed": true
   },
   "outputs": [],
   "source": [
    "import numpy as np\n",
    "import matplotlib.pyplot as plt\n",
    "%matplotlib notebook"
   ]
  },
  {
   "cell_type": "markdown",
   "metadata": {},
   "source": [
    "## Plotting multiple graphs"
   ]
  },
  {
   "cell_type": "code",
   "execution_count": 5,
   "metadata": {
    "collapsed": true
   },
   "outputs": [],
   "source": [
    "# plt.plot(t, temperature, 'r')\n",
    "# plt.plot(t, dewpoint, 'b')  # appears on the same axes\n",
    "\n",
    "# plt.xlabel('Date')\n",
    "# plt.title('Temperature & Dew Point')\n",
    "\n",
    "# plt.show()  # renders plot objects to screen"
   ]
  },
  {
   "cell_type": "markdown",
   "metadata": {},
   "source": [
    "![Graph 1](Images/12_1.jpg)"
   ]
  },
  {
   "cell_type": "markdown",
   "metadata": {},
   "source": [
    "------\n",
    "\n",
    "### Using axes( )"
   ]
  },
  {
   "cell_type": "markdown",
   "metadata": {},
   "source": [
    "Will draw the same two curves on multiple axes in the same figure. Overlaying curves is not useful when the scales vary wildly."
   ]
  },
  {
   "cell_type": "markdown",
   "metadata": {},
   "source": [
    "#### The axes ( ) command syntax:\n",
    "axes( [ x_lo, y_lo, width, height ] )\n",
    "\n",
    "The elements are scaled to figure units (scaled to the dimensions of the figure), and range between 0 and 1."
   ]
  },
  {
   "cell_type": "code",
   "execution_count": 6,
   "metadata": {
    "collapsed": true
   },
   "outputs": [],
   "source": [
    "# plt.axes([0.05, 0.05, 0.425, 0.9])\n",
    "# plt.plot(t, temperature, 'r')\n",
    "# plt.xlabel('Date')\n",
    "# plt.title('Temperature)\n",
    "\n",
    "# plt.axes([0.05, 0.05, 0.425, 0.9])\n",
    "# plt.plot(t, dewpoint, 'b')\n",
    "# plt.xlabel('Date')\n",
    "# plt.title('Dew Point')\n",
    "\n",
    "# plt.show()"
   ]
  },
  {
   "cell_type": "markdown",
   "metadata": {},
   "source": [
    "![Graph 2](Images/12_2.jpg)"
   ]
  },
  {
   "cell_type": "markdown",
   "metadata": {},
   "source": [
    "----------\n",
    "\n",
    "### Using subplot ( )\n",
    "\n",
    "The subplot ( ) command creates a grid of axes so we don't have to figure out coordinates manually.  "
   ]
  },
  {
   "cell_type": "markdown",
   "metadata": {},
   "source": [
    "#### The subplot ( ) command syntax:\n",
    "\n",
    "subplot ( nrows, ncols, nsubplot )\n",
    "\n",
    "\n",
    "Subplot ordering:\n",
    "- Row-wise from top left\n",
    "- Indexed from 1, unlike other Python arrays"
   ]
  },
  {
   "cell_type": "code",
   "execution_count": 7,
   "metadata": {
    "collapsed": true
   },
   "outputs": [],
   "source": [
    "# plt.subplot(2, 1, 1)\n",
    "# plt.plot(t, temperature, 'r')\n",
    "# plt.xlabel('Date')\n",
    "# plt.title('Temperature')\n",
    "\n",
    "# plt.subplot(2, 1, 2)\n",
    "# plt.plot(t, dewpoint, 'b')\n",
    "# plt.xlabel('Date')\n",
    "# plt.title('Dew Point')\n",
    "\n",
    "# plt.tight_layout()"
   ]
  },
  {
   "cell_type": "markdown",
   "metadata": {},
   "source": [
    "![Graph 2](Images/12_3.jpg)"
   ]
  },
  {
   "cell_type": "markdown",
   "metadata": {},
   "source": [
    "-----"
   ]
  },
  {
   "cell_type": "markdown",
   "metadata": {},
   "source": [
    "-----\n",
    "\n",
    "\n",
    "### Women in Computer Science\n",
    "\n",
    "3 pre-loaded NumPy arrays:\n",
    "- year: 1970-2011\n",
    "- physical_sciences: represents the percentage of Physical Sciences degrees awarded to women in each corresponding year\n",
    "- computer_science: represents the percentage of Computer Science degrees awarded tp women in each corresponding year"
   ]
  },
  {
   "cell_type": "markdown",
   "metadata": {},
   "source": [
    "![Graph 4](Images/12_4.jpg)"
   ]
  },
  {
   "cell_type": "markdown",
   "metadata": {},
   "source": [
    "### Plotting data using axes ( [ ] )"
   ]
  },
  {
   "cell_type": "markdown",
   "metadata": {},
   "source": [
    "![Graph 5](Images/12_5.jpg)"
   ]
  },
  {
   "cell_type": "markdown",
   "metadata": {},
   "source": [
    "### Plot the data using subplot ( )"
   ]
  },
  {
   "cell_type": "markdown",
   "metadata": {},
   "source": [
    "![Graph 6](Images/12_6.jpg)"
   ]
  },
  {
   "cell_type": "markdown",
   "metadata": {},
   "source": [
    "### Multiple subplots"
   ]
  },
  {
   "cell_type": "code",
   "execution_count": null,
   "metadata": {
    "collapsed": true
   },
   "outputs": [],
   "source": [
    "# Create a figure with 2x2 subplot layout and make the top left subplot active\n",
    "plt.subplot(2, 2, 1)\n",
    "\n",
    "# Plot in blue the % of degrees awarded to women in the Physical Sciences\n",
    "plt.plot(year, physical_sciences, color='blue')\n",
    "plt.title('Physical Sciences')\n",
    "\n",
    "# Make the top right subplot active in the current 2x2 subplot grid \n",
    "plt.subplot(2, 2, 2)\n",
    "\n",
    "# Plot in red the % of degrees awarded to women in Computer Science\n",
    "plt.plot(year, computer_science, color='red')\n",
    "plt.title('Computer Science')\n",
    "\n",
    "# Make the bottom left subplot active in the current 2x2 subplot grid\n",
    "plt.subplot(2, 2, 3)\n",
    "\n",
    "# Plot in green the % of degrees awarded to women in Health Professions\n",
    "plt.plot(year, health, color='green')\n",
    "plt.title('Health Professions')\n",
    "\n",
    "# Make the bottom right subplot active in the current 2x2 subplot grid\n",
    "plt.subplot(2, 2, 4)\n",
    "\n",
    "# Plot in yellow the % of degrees awarded to women in Education\n",
    "plt.plot(year, education, color='yellow')\n",
    "plt.title('Education')\n",
    "\n",
    "# Improve the spacing between subplots and display them\n",
    "plt.tight_layout()\n",
    "plt.show()"
   ]
  },
  {
   "cell_type": "markdown",
   "metadata": {},
   "source": [
    "![Several subplots](Images/12_7.jpg)"
   ]
  },
  {
   "cell_type": "markdown",
   "metadata": {},
   "source": [
    "-------"
   ]
  },
  {
   "cell_type": "markdown",
   "metadata": {},
   "source": [
    "-------\n",
    "\n",
    "## Customizing Axes"
   ]
  },
  {
   "cell_type": "markdown",
   "metadata": {},
   "source": [
    "### Controlling Axis Extents\n",
    "\n",
    "**Axis extents command syntax:** Creating a graph and zooming in on a specific region.\n",
    "\n",
    "\n",
    "axis ( [ xmin, xmax, ymin, ymax ] ) sets axis extents.\n",
    "\n"
   ]
  },
  {
   "cell_type": "markdown",
   "metadata": {},
   "source": [
    "Can also set control over individual axis extents:\n",
    "- xlim ( [ xmin, xmax ] )\n",
    "- ylim ( [ ymin, ymax ] )\n",
    "\n",
    "Can use tuples or lists to specify the upper and lower constraints of the axes.\n",
    "- xlim ( ( -2, 3 ) ) \n",
    "- xlim ( [ -2, 3 ] )"
   ]
  },
  {
   "cell_type": "code",
   "execution_count": null,
   "metadata": {
    "collapsed": true
   },
   "outputs": [],
   "source": [
    "plt.plot(yr, gdp)\n",
    "\n",
    "plt.xlabel('Year')\n",
    "plt.ylabel('Billions of Dollars')\n",
    "plt.title('US Gross Domestic Product')\n",
    "\n",
    "plt.show()"
   ]
  },
  {
   "cell_type": "markdown",
   "metadata": {},
   "source": [
    "![12_8](Images/12_8.jpg)\n",
    "\n",
    "### Using xlim ( ) & ylim ( )"
   ]
  },
  {
   "cell_type": "code",
   "execution_count": null,
   "metadata": {
    "collapsed": true
   },
   "outputs": [],
   "source": [
    "plt.plot(yr, gdp)\n",
    "\n",
    "plt.xlabel('Year')\n",
    "plt.ylabel('Billions of Dollars')\n",
    "plt.title('US Gross Domestic Product')\n",
    "\n",
    "plt.xlim((1947, 1957))\n",
    "plt.ylim((0, 1000))\n",
    "\n",
    "plt.show()"
   ]
  },
  {
   "cell_type": "markdown",
   "metadata": {},
   "source": [
    "![12_10](Images/12_10.jpg)\n",
    "\n",
    "### Using axis ( )"
   ]
  },
  {
   "cell_type": "code",
   "execution_count": null,
   "metadata": {
    "collapsed": true
   },
   "outputs": [],
   "source": [
    "plt.plot(yr, gdp)\n",
    "\n",
    "plt.xlabel('Year')\n",
    "plt.ylabel('Billions of Dollars')\n",
    "plt.title('US Gross Domestic Product')\n",
    "\n",
    "plt.axis((1947, 1957, 0, 600))\n",
    "\n",
    "plt.show()"
   ]
  },
  {
   "cell_type": "markdown",
   "metadata": {},
   "source": [
    "![12_10](Images/12_10.jpg)"
   ]
  },
  {
   "cell_type": "markdown",
   "metadata": {},
   "source": [
    "### Other axis ( ) options:\n",
    "\n",
    "![12_9](Images/12_9.jpg)"
   ]
  },
  {
   "cell_type": "markdown",
   "metadata": {
    "collapsed": true
   },
   "source": [
    "#### Using axis ( 'equal' )"
   ]
  },
  {
   "cell_type": "code",
   "execution_count": null,
   "metadata": {
    "collapsed": true
   },
   "outputs": [],
   "source": [
    "plt.subplot(2, 1, 1)\n",
    "plt.plot(x, y, 'red')\n",
    "plt.title('default axis')\n",
    "\n",
    "plt.subplot(2, 1, 2)\n",
    "plt.plot(x, y, 'red')\n",
    "plt.axis('equal')\n",
    "plt.title('axis equal')\n",
    "\n",
    "plt.tight_layout()\n",
    "plt.show()"
   ]
  },
  {
   "cell_type": "markdown",
   "metadata": {},
   "source": [
    "![12_11](Images/12_11.jpg)\n",
    "\n",
    "-------"
   ]
  },
  {
   "cell_type": "markdown",
   "metadata": {},
   "source": [
    "------\n",
    "\n",
    "### Setting xlim ( ) & ylim ( )"
   ]
  },
  {
   "cell_type": "code",
   "execution_count": null,
   "metadata": {
    "collapsed": true
   },
   "outputs": [],
   "source": [
    "# Plot the % of degrees awarded to women in \n",
    "# Computer Science and the Physical Sciences\n",
    "plt.plot(year,computer_science, color='red') \n",
    "plt.plot(year, physical_sciences, color='blue')\n",
    "\n",
    "# Add the axis labels\n",
    "plt.xlabel('Year')\n",
    "plt.ylabel('Degrees awarded to women (%)')\n",
    "\n",
    "# Set the x-axis range\n",
    "plt.xlim((1990, 2010))\n",
    "\n",
    "# Set the y-axis range\n",
    "plt.ylim((0, 50))\n",
    "\n",
    "# Add a title and display the plot\n",
    "plt.title('Degrees awarded to women (1990-2010)\\nComputer Science (red)\\nPhysical Sciences (blue)')\n",
    "plt.show()\n",
    "\n",
    "# Save the image as 'xlim_and_ylim.png'\n",
    "plt.savefig('xlim_and_ylim.png')"
   ]
  },
  {
   "cell_type": "markdown",
   "metadata": {},
   "source": [
    "![12_12](Images/12_12.jpg)\n"
   ]
  },
  {
   "cell_type": "markdown",
   "metadata": {},
   "source": [
    "### Using axis ( )"
   ]
  },
  {
   "cell_type": "code",
   "execution_count": null,
   "metadata": {
    "collapsed": true
   },
   "outputs": [],
   "source": [
    "# Plot in blue the % of degrees awarded to women in Computer Science\n",
    "plt.plot(year,computer_science, color='blue')\n",
    "\n",
    "# Plot in red the % of degrees awarded to women in the Physical Sciences\n",
    "plt.plot(year, physical_sciences,color='red')\n",
    "\n",
    "# Set the x-axis and y-axis limits\n",
    "plt.axis((1990, 2010, 0, 50))\n",
    "\n",
    "# Show the figure\n",
    "plt.show()\n",
    "\n",
    "# Save the figure as 'axis_limits.png'\n",
    "plt.savefig('axis_limits.png')"
   ]
  },
  {
   "cell_type": "markdown",
   "metadata": {},
   "source": [
    "![12_13](Images/12_13.jpg)\n"
   ]
  },
  {
   "cell_type": "markdown",
   "metadata": {},
   "source": []
  },
  {
   "cell_type": "code",
   "execution_count": null,
   "metadata": {
    "collapsed": true
   },
   "outputs": [],
   "source": []
  },
  {
   "cell_type": "code",
   "execution_count": null,
   "metadata": {
    "collapsed": true
   },
   "outputs": [],
   "source": []
  },
  {
   "cell_type": "code",
   "execution_count": null,
   "metadata": {
    "collapsed": true
   },
   "outputs": [],
   "source": []
  },
  {
   "cell_type": "code",
   "execution_count": null,
   "metadata": {
    "collapsed": true
   },
   "outputs": [],
   "source": []
  },
  {
   "cell_type": "code",
   "execution_count": null,
   "metadata": {
    "collapsed": true
   },
   "outputs": [],
   "source": []
  },
  {
   "cell_type": "code",
   "execution_count": null,
   "metadata": {
    "collapsed": true
   },
   "outputs": [],
   "source": []
  }
 ],
 "metadata": {
  "kernelspec": {
   "display_name": "Python 3",
   "language": "python",
   "name": "python3"
  },
  "language_info": {
   "codemirror_mode": {
    "name": "ipython",
    "version": 3
   },
   "file_extension": ".py",
   "mimetype": "text/x-python",
   "name": "python",
   "nbconvert_exporter": "python",
   "pygments_lexer": "ipython3",
   "version": "3.6.3"
  }
 },
 "nbformat": 4,
 "nbformat_minor": 2
}
