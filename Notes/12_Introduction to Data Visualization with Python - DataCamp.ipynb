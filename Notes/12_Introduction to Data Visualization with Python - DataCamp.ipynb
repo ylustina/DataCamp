{
 "cells": [
  {
   "cell_type": "code",
   "execution_count": 1,
   "metadata": {
    "collapsed": true
   },
   "outputs": [],
   "source": [
    "import numpy as np\n",
    "import matplotlib.pyplot as plt\n",
    "%matplotlib notebook"
   ]
  },
  {
   "cell_type": "markdown",
   "metadata": {},
   "source": [
    "### Plotting multiple graphs"
   ]
  },
  {
   "cell_type": "code",
   "execution_count": 3,
   "metadata": {
    "collapsed": true
   },
   "outputs": [],
   "source": [
    "# plt.plot(t, temperature, 'r')\n",
    "# plt.plot(t, dewpoint, 'b')  # appears on the same axes\n",
    "# plt.xlabel('Date)\n",
    "# plt.title('Temperature & Dew Point')\n",
    "# plt.show()  # renders plot objects to screen"
   ]
  },
  {
   "cell_type": "markdown",
   "metadata": {},
   "source": [
    "Will draw the same two curves on multiple axes in the same figure. Overlaying curves is not useful when the scales vary wildly.\n",
    "\n",
    "#### The axes() command syntax:\n",
    "axes([x_lo, y_lo, width, height])"
   ]
  },
  {
   "cell_type": "code",
   "execution_count": null,
   "metadata": {
    "collapsed": true
   },
   "outputs": [],
   "source": [
    "# plt.axes([0.05, 0.05, 0.425, 0.9])\n",
    "# plt.plot(t, temperature, 'r')\n",
    "# plt.xlabel('Date')\n",
    "# plt.title('Temperature)\n",
    "# plt.axes([0.05, 0.05, 0.425, 0.9])\n",
    "# \n",
    "# \n",
    "#\n"
   ]
  }
 ],
 "metadata": {
  "kernelspec": {
   "display_name": "Python 3",
   "language": "python",
   "name": "python3"
  },
  "language_info": {
   "codemirror_mode": {
    "name": "ipython",
    "version": 3
   },
   "file_extension": ".py",
   "mimetype": "text/x-python",
   "name": "python",
   "nbconvert_exporter": "python",
   "pygments_lexer": "ipython3",
   "version": "3.6.3"
  }
 },
 "nbformat": 4,
 "nbformat_minor": 2
}
