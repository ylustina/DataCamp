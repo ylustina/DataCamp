{
 "cells": [
  {
   "cell_type": "code",
   "execution_count": 1,
   "metadata": {
    "collapsed": true
   },
   "outputs": [],
   "source": [
    "import numpy as np\n",
    "import matplotlib.pyplot as plt\n",
    "%matplotlib notebook"
   ]
  },
  {
   "cell_type": "markdown",
   "metadata": {},
   "source": [
    "## Plotting multiple graphs"
   ]
  },
  {
   "cell_type": "markdown",
   "metadata": {},
   "source": [
    "### Using axes()"
   ]
  },
  {
   "cell_type": "code",
   "execution_count": 5,
   "metadata": {
    "collapsed": true
   },
   "outputs": [],
   "source": [
    "# plt.plot(t, temperature, 'r')\n",
    "# plt.plot(t, dewpoint, 'b')  # appears on the same axes\n",
    "# plt.xlabel('Date)\n",
    "# plt.title('Temperature & Dew Point')\n",
    "# plt.show()  # renders plot objects to screen"
   ]
  },
  {
   "cell_type": "markdown",
   "metadata": {},
   "source": [
    "![Graph 1](Images/12_1.jpg)"
   ]
  },
  {
   "cell_type": "markdown",
   "metadata": {},
   "source": [
    "Will draw the same two curves on multiple axes in the same figure. Overlaying curves is not useful when the scales vary wildly."
   ]
  },
  {
   "cell_type": "code",
   "execution_count": 6,
   "metadata": {
    "collapsed": true
   },
   "outputs": [],
   "source": [
    "# plt.axes([0.05, 0.05, 0.425, 0.9])\n",
    "# plt.plot(t, temperature, 'r')\n",
    "# plt.xlabel('Date')\n",
    "# plt.title('Temperature)\n",
    "# plt.axes([0.05, 0.05, 0.425, 0.9])\n",
    "# plt.plot(t, dewpoint, 'b')\n",
    "# plt.xlabel('Date')\n",
    "# plt.title('Dew Point')\n",
    "# plt.show()"
   ]
  },
  {
   "cell_type": "markdown",
   "metadata": {},
   "source": [
    "![Graph 2](Images/12_2.jpg)"
   ]
  },
  {
   "cell_type": "markdown",
   "metadata": {},
   "source": [
    "#### The axes( ) command syntax:\n",
    "axes( [x_lo, y_lo, width, height] )\n",
    "\n",
    "The elements are scaled to figure units (scaled to the dimensions of the figure), and range between 0 and 1."
   ]
  },
  {
   "cell_type": "markdown",
   "metadata": {},
   "source": [
    "### Using subplot( )\n",
    "\n",
    "The subplot( ) command creates a grid of axes so we don't have to figure out coordinates manually.  "
   ]
  },
  {
   "cell_type": "code",
   "execution_count": 7,
   "metadata": {
    "collapsed": true
   },
   "outputs": [],
   "source": [
    "# plt.subplot(2, 1, 1)\n",
    "# plt.plot(t, temperature, 'r')\n",
    "# plt.xlabel('Date')\n",
    "# plt.title('Temperature')\n",
    "# plt.subplot(2, 1, 2)\n",
    "# plt.plot(t, dewpoint, 'b')\n",
    "# plt.xlabel('Date')\n",
    "# plt.title('Dew Point')\n",
    "# plt.tight_layout()"
   ]
  },
  {
   "cell_type": "markdown",
   "metadata": {},
   "source": [
    "![Graph 2](Images/12_3.jpg)"
   ]
  },
  {
   "cell_type": "markdown",
   "metadata": {},
   "source": [
    "#### The subplot( ) command syntax:\n",
    "\n",
    "subplot(nrows, ncols, nsubplot)\n",
    "\n",
    "\n",
    "Subplot ordering:\n",
    "- Row-wise from top left\n",
    "- Indexed from 1, unlike other Python arrays"
   ]
  }
 ],
 "metadata": {
  "kernelspec": {
   "display_name": "Python 3",
   "language": "python",
   "name": "python3"
  },
  "language_info": {
   "codemirror_mode": {
    "name": "ipython",
    "version": 3
   },
   "file_extension": ".py",
   "mimetype": "text/x-python",
   "name": "python",
   "nbconvert_exporter": "python",
   "pygments_lexer": "ipython3",
   "version": "3.6.3"
  }
 },
 "nbformat": 4,
 "nbformat_minor": 2
}
