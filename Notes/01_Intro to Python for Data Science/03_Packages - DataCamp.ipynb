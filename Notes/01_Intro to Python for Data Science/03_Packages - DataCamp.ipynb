{
 "cells": [
  {
   "cell_type": "markdown",
   "metadata": {},
   "source": [
    "## Intro to Python for Data Science #3\n"
   ]
  },
  {
   "cell_type": "markdown",
   "metadata": {},
   "source": [
    "### Packages\n",
    "\n",
    "Packages are a directory of Python scripts. Each script is called a module. Modules specify functions, methods, and new Python types. There are thousands of packages available on the Internet, some of them geared towards data science.\n",
    "\n",
    "- Numpy: efficiently work with arrays\n",
    "- Matplotlib: data visualization\n",
    "- Scikit-learn: machine learning\n",
    "\n",
    "\n",
    "To use packages, you have to install them on your system, and then specify in your script that you want to use the package.\n",
    "\n",
    "You can also use one specific part of a package.\n"
   ]
  },
  {
   "cell_type": "code",
   "execution_count": 40,
   "metadata": {},
   "outputs": [
    {
     "data": {
      "text/plain": [
       "array([1, 2, 3])"
      ]
     },
     "execution_count": 40,
     "metadata": {},
     "output_type": "execute_result"
    }
   ],
   "source": [
    "# array([]) does not work with numpy\n",
    "\n",
    "import numpy\n",
    "\n",
    "array([1, 2, 3])"
   ]
  },
  {
   "cell_type": "code",
   "execution_count": 41,
   "metadata": {},
   "outputs": [
    {
     "data": {
      "text/plain": [
       "array([1, 2, 3])"
      ]
     },
     "execution_count": 41,
     "metadata": {},
     "output_type": "execute_result"
    }
   ],
   "source": [
    "numpy.array([1, 2, 3])"
   ]
  },
  {
   "cell_type": "code",
   "execution_count": 42,
   "metadata": {},
   "outputs": [
    {
     "data": {
      "text/plain": [
       "array([1, 2, 3])"
      ]
     },
     "execution_count": 42,
     "metadata": {},
     "output_type": "execute_result"
    }
   ],
   "source": [
    "import numpy as np\n",
    "np.array([1, 2, 3])"
   ]
  },
  {
   "cell_type": "markdown",
   "metadata": {},
   "source": [
    "The from import version to import specific parts of the package can be useful to limit the amount of coding, but you are also losing some of the context. If you are working in a long Python script, and import your array function from numpy at the top, if your array function isn’t in the script until later in the code, a reader might get confused. In this case, a more standard import numpy would be preferred."
   ]
  },
  {
   "cell_type": "code",
   "execution_count": 43,
   "metadata": {},
   "outputs": [
    {
     "data": {
      "text/plain": [
       "array([1, 2, 3])"
      ]
     },
     "execution_count": 43,
     "metadata": {},
     "output_type": "execute_result"
    }
   ],
   "source": [
    "from numpy import array\n",
    "array([1, 2, 3])"
   ]
  },
  {
   "cell_type": "code",
   "execution_count": 44,
   "metadata": {},
   "outputs": [
    {
     "name": "stdout",
     "output_type": "stream",
     "text": [
      "Circumference: 18.84955592153876\n",
      "Area: 28.274333882308138\n"
     ]
    }
   ],
   "source": [
    "import math\n",
    "\n",
    "radius = r\n",
    "r = 3\n",
    "\n",
    "C = 2 * math.pi * r\n",
    "\n",
    "A = math.pi * r**2\n",
    "\n",
    "print('Circumference: ' + str(C))\n",
    "print('Area: ' + str(A))"
   ]
  },
  {
   "cell_type": "markdown",
   "metadata": {},
   "source": [
    "There are several ways to import packages and modules into Python. Depending on the import call, you’ll have to use different Python code. If you want to use the function inv( ), which is in the linalg subpackage of the scipy package, you want to be able to use this function"
   ]
  },
  {
   "cell_type": "code",
   "execution_count": 45,
   "metadata": {},
   "outputs": [
    {
     "data": {
      "text/plain": [
       "array([[-2. ,  1. ],\n",
       "       [ 1.5, -0.5]])"
      ]
     },
     "execution_count": 45,
     "metadata": {},
     "output_type": "execute_result"
    }
   ],
   "source": [
    "from scipy.linalg import inv as my_inv\n",
    "\n",
    "my_inv([[1, 2], [3, 4]])"
   ]
  },
  {
   "cell_type": "markdown",
   "metadata": {},
   "source": [
    "### NumPy\n",
    "\n",
    "Numpy provides an alternative to Python lists - NumPy arrays. Numpy is great for doing vector arithmetic."
   ]
  },
  {
   "cell_type": "markdown",
   "metadata": {},
   "source": [
    "#### Arrays\n",
    "\n",
    "Python doesn’t know how to do calculations on lists, so numpy is useful because it treats arrays like single values. The array is very similar to lists, however you can perform calculations over entire arrays."
   ]
  },
  {
   "cell_type": "code",
   "execution_count": 46,
   "metadata": {},
   "outputs": [
    {
     "name": "stdout",
     "output_type": "stream",
     "text": [
      "[1.73, 1.68, 1.71, 1.89, 1.79]\n",
      "[68.2, 70.8, 79.8, 90.6, 77.0]\n"
     ]
    }
   ],
   "source": [
    "fam = ['liz', 1.73, 68.2, 'emma', 1.68, 70.8, \\\n",
    "       'mom', 1.71, 79.8, 'dad', 1.89, 90.6, 'me', 1.79, 77.0]\n",
    "\n",
    "height = fam[1::3]\n",
    "print(height)\n",
    "\n",
    "weight = fam[2::3]\n",
    "print(weight)"
   ]
  },
  {
   "cell_type": "code",
   "execution_count": 47,
   "metadata": {},
   "outputs": [
    {
     "name": "stdout",
     "output_type": "stream",
     "text": [
      "[ 1.73  1.68  1.71  1.89  1.79]\n",
      "[ 68.2  70.8  79.8  90.6  77. ]\n",
      "[ 22.78726319  25.08503401  27.29044834  25.36323171  24.03170937]\n"
     ]
    }
   ],
   "source": [
    "import numpy as np\n",
    "\n",
    "np_height = np.array(height)\n",
    "np_weight = np.array(weight)\n",
    "\n",
    "bmi = np_weight / (np_height ** 2)\n",
    "\n",
    "print(np_height)\n",
    "print(np_weight)\n",
    "\n",
    "print(bmi)"
   ]
  },
  {
   "cell_type": "markdown",
   "metadata": {},
   "source": [
    "\n",
    "Numpy can do all this easily because it assumes that your array can only contain values of a single type. Either an array of floats, booleans, etc. \n",
    "\n",
    "If you try to build a list with different types, some of the elements’ types are changed to end up with a homogenous list. This is known as *type coercion*. \n",
    "\n",
    "Since a numpy array is just a different Python type, it comes with its own methods. Different types, different behavior! The typical arithmetic operators such as +, -, *, and / have a different meaning for regular Python lists and numpy arrays.\n"
   ]
  },
  {
   "cell_type": "code",
   "execution_count": 48,
   "metadata": {},
   "outputs": [
    {
     "data": {
      "text/plain": [
       "array(['1.0', 'hi', 'True'],\n",
       "      dtype='<U32')"
      ]
     },
     "execution_count": 48,
     "metadata": {},
     "output_type": "execute_result"
    }
   ],
   "source": [
    "np.array([1.0, \"hi\", True])"
   ]
  },
  {
   "cell_type": "code",
   "execution_count": 49,
   "metadata": {},
   "outputs": [
    {
     "name": "stdout",
     "output_type": "stream",
     "text": [
      "[1, 2, 3, 1, 2, 3]\n",
      "[2 4 6]\n"
     ]
    }
   ],
   "source": [
    "python_list = [1, 2, 3]\n",
    "\n",
    "numpy_array = np.array([1, 2, 3])\n",
    "\n",
    "print(python_list + python_list)\n",
    "print(numpy_array + numpy_array)"
   ]
  },
  {
   "cell_type": "markdown",
   "metadata": {},
   "source": [
    "#### NumPy Subsetting\n",
    "\n",
    "You can use square brackets to get elements from your array.\n",
    "\n",
    "You can also use an array of booleans to do subsetting.\n"
   ]
  },
  {
   "cell_type": "code",
   "execution_count": null,
   "metadata": {
    "collapsed": true
   },
   "outputs": [],
   "source": []
  }
 ],
 "metadata": {
  "kernelspec": {
   "display_name": "Python 3",
   "language": "python",
   "name": "python3"
  },
  "language_info": {
   "codemirror_mode": {
    "name": "ipython",
    "version": 3
   },
   "file_extension": ".py",
   "mimetype": "text/x-python",
   "name": "python",
   "nbconvert_exporter": "python",
   "pygments_lexer": "ipython3",
   "version": "3.6.3"
  }
 },
 "nbformat": 4,
 "nbformat_minor": 2
}
